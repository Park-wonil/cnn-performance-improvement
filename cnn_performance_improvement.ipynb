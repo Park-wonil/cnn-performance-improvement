{
  "cells": [
    {
      "cell_type": "markdown",
      "metadata": {
        "id": "eApAaAZKnVGH"
      },
      "source": [
        "# Toy Project: CIFAR-10 CNN Classification\n",
        "\n"
      ]
    },
    {
      "cell_type": "code",
      "execution_count": null,
      "metadata": {
        "id": "4Lzq490PnVGI"
      },
      "outputs": [],
      "source": [
        "import torch\n",
        "import torch.nn as nn\n",
        "import torch.optim as optim\n",
        "import torchvision\n",
        "import torchvision.transforms as transforms\n",
        "from torch.utils.data import DataLoader\n",
        "import matplotlib.pyplot as plt"
      ]
    },
    {
      "cell_type": "code",
      "execution_count": null,
      "metadata": {
        "id": "XOcHKH9inVGJ",
        "colab": {
          "base_uri": "https://localhost:8080/"
        },
        "outputId": "7442389a-9c53-4501-a2ba-99781e9e82a1"
      },
      "outputs": [
        {
          "output_type": "stream",
          "name": "stdout",
          "text": [
            "Files already downloaded and verified\n",
            "Files already downloaded and verified\n"
          ]
        }
      ],
      "source": [
        "# Define dataset transforms HorizontalFlip 적용\n",
        "define_transforms = transforms.Compose([\n",
        "    transforms.RandomHorizontalFlip(),\n",
        "    transforms.ToTensor(),\n",
        "    transforms.Normalize((0.5, 0.5, 0.5), (0.5, 0.5, 0.5))\n",
        "])\n",
        "\n",
        "\n",
        "# Load CIFAR-10 dataset\n",
        "trainset = torchvision.datasets.CIFAR10(\n",
        "    root='./data', train=True, download=True, transform=define_transforms)\n",
        "trainloader = DataLoader(trainset, batch_size=32, shuffle=True)\n",
        "\n",
        "testset = torchvision.datasets.CIFAR10(\n",
        "    root='./data', train=False, download=True, transform=define_transforms)\n",
        "\n",
        "testloader = DataLoader(testset, batch_size=32, shuffle=False)"
      ]
    },
    {
      "cell_type": "code",
      "execution_count": null,
      "metadata": {
        "id": "LD8L6WNknVGJ"
      },
      "outputs": [],
      "source": [
        "# Define the CNN model\n",
        "class SimpleCNN(nn.Module):\n",
        "    def __init__(self):\n",
        "        super(SimpleCNN, self).__init__()\n",
        "        self.conv1 = nn.Conv2d(3, 16, kernel_size=3, stride=1, padding=1)\n",
        "        self.conv2 = nn.Conv2d(16, 32, kernel_size=3, stride=1, padding=1)\n",
        "        self.conv3 = nn.Conv2d(32, 64, kernel_size=3, stride=1, padding=1)  # 추가된 conv\n",
        "        self.pool = nn.MaxPool2d(kernel_size=2, stride=2, padding=0)\n",
        "        self.dropout = nn.Dropout(0.3)\n",
        "        self.relu = nn.LeakyReLU(0.1)  # ReLU → LeakyReLU\n",
        "        self.fc1 = nn.Linear(64 * 4 * 4, 256)  #  FC 확장\n",
        "        self.fc2 = nn.Linear(256, 128)\n",
        "        self.fc3 = nn.Linear(128, 10)\n",
        "\n",
        "    def forward(self, x):\n",
        "        x = self.pool(self.relu(self.conv1(x)))\n",
        "        x = self.pool(self.relu(self.conv2(x)))\n",
        "        x = self.pool(self.relu(self.conv3(x)))\n",
        "        x = x.view(x.size(0), -1)\n",
        "        x = self.dropout(self.relu(self.fc1(x)))\n",
        "        x = self.dropout(self.relu(self.fc2(x)))\n",
        "        x = self.fc3(x)\n",
        "        return x\n"
      ]
    },
    {
      "cell_type": "code",
      "execution_count": null,
      "metadata": {
        "colab": {
          "base_uri": "https://localhost:8080/"
        },
        "id": "6SrwbQ_GnVGJ",
        "outputId": "48c22989-a46a-4f2c-c55d-2f84e190e0ae"
      },
      "outputs": [
        {
          "output_type": "stream",
          "name": "stdout",
          "text": [
            "Using device: cuda\n"
          ]
        }
      ],
      "source": [
        "# Check for GPU and instantiate model, loss, and optimizer\n",
        "device = torch.device('cuda' if torch.cuda.is_available() else 'cpu')\n",
        "print('Using device:', device)\n",
        "\n",
        "model = SimpleCNN().to(device)\n",
        "criterion = nn.CrossEntropyLoss()\n",
        "optimizer = optim.Adam(model.parameters(), lr=0.001, weight_decay=1e-4)\n",
        "#optimizer 변경 SGD > Adam 학습률 0.01에서 0.001로 변경, L2정규화"
      ]
    },
    {
      "cell_type": "code",
      "execution_count": null,
      "metadata": {
        "id": "iAK8HdexnVGK"
      },
      "outputs": [],
      "source": [
        "# Training loop function\n",
        "def train_model(model, trainloader, criterion, optimizer, num_epochs=10):\n",
        "    train_losses = []\n",
        "    train_accuracies = []\n",
        "    for epoch in range(num_epochs):\n",
        "        running_loss = 0.0\n",
        "        correct = 0\n",
        "        total = 0\n",
        "        for i, (inputs, labels) in enumerate(trainloader, 0):\n",
        "            inputs, labels = inputs.to(device), labels.to(device)\n",
        "            optimizer.zero_grad()\n",
        "            outputs = model(inputs)\n",
        "            loss = criterion(outputs, labels)\n",
        "            loss.backward()\n",
        "            optimizer.step()\n",
        "            running_loss += loss.item()\n",
        "            _, predicted = torch.max(outputs.data, 1)\n",
        "            total += labels.size(0)\n",
        "            correct += (predicted == labels).sum().item()\n",
        "            if i % 100 == 99:\n",
        "                print(f'[Epoch {epoch+1}, Batch {i+1}] loss: {running_loss/100:.3f}')\n",
        "                running_loss = 0.0\n",
        "        epoch_loss = running_loss / len(trainloader)\n",
        "        epoch_acc = 100 * correct / total\n",
        "        train_losses.append(epoch_loss)\n",
        "        train_accuracies.append(epoch_acc)\n",
        "        print(f'Epoch {epoch+1} accuracy: {epoch_acc:.2f}%')\n",
        "    print('Training complete')\n",
        "    return train_losses, train_accuracies\n"
      ]
    },
    {
      "cell_type": "code",
      "execution_count": null,
      "metadata": {
        "id": "vxtImzImnVGK"
      },
      "outputs": [],
      "source": [
        "# Testing function\n",
        "def test_model(model, testloader):\n",
        "    correct = 0\n",
        "    total = 0\n",
        "    with torch.no_grad():\n",
        "        for inputs, labels in testloader:\n",
        "            inputs, labels = inputs.to(device), labels.to(device)\n",
        "            outputs = model(inputs)\n",
        "            _, predicted = torch.max(outputs.data, 1)\n",
        "            total += labels.size(0)\n",
        "            correct += (predicted == labels).sum().item()\n",
        "    print(f'Test Accuracy: {100 * correct / total:.2f}%')\n"
      ]
    },
    {
      "cell_type": "code",
      "execution_count": null,
      "metadata": {
        "id": "-yAtBXsmnVGK"
      },
      "outputs": [],
      "source": [
        "# Plotting training metrics\n",
        "def plot_training_curves(train_losses, train_accuracies):\n",
        "    epochs = range(1, len(train_losses) + 1)\n",
        "    plt.figure(figsize=(12,5))\n",
        "    plt.subplot(1,2,1)\n",
        "    plt.plot(epochs, train_losses, 'r-', label='Loss')\n",
        "    plt.xlabel('Epoch')\n",
        "    plt.ylabel('Loss')\n",
        "    plt.title('Training Loss')\n",
        "    plt.legend()\n",
        "    plt.subplot(1,2,2)\n",
        "    plt.plot(epochs, train_accuracies, 'b-', label='Accuracy')\n",
        "    plt.xlabel('Epoch')\n",
        "    plt.ylabel('Accuracy (%)')\n",
        "    plt.title('Training Accuracy')\n",
        "    plt.legend()\n",
        "    plt.show()\n"
      ]
    },
    {
      "cell_type": "code",
      "execution_count": null,
      "metadata": {
        "colab": {
          "base_uri": "https://localhost:8080/",
          "height": 1000
        },
        "id": "BJlkzhypnVGK",
        "outputId": "f11b134f-653b-4525-ffa4-2d9e3c23aff9"
      },
      "outputs": [
        {
          "output_type": "stream",
          "name": "stdout",
          "text": [
            "[Epoch 1, Batch 100] loss: 2.093\n",
            "[Epoch 1, Batch 200] loss: 1.793\n",
            "[Epoch 1, Batch 300] loss: 1.697\n",
            "[Epoch 1, Batch 400] loss: 1.569\n",
            "[Epoch 1, Batch 500] loss: 1.513\n",
            "[Epoch 1, Batch 600] loss: 1.443\n",
            "[Epoch 1, Batch 700] loss: 1.407\n",
            "[Epoch 1, Batch 800] loss: 1.382\n",
            "[Epoch 1, Batch 900] loss: 1.320\n",
            "[Epoch 1, Batch 1000] loss: 1.313\n",
            "[Epoch 1, Batch 1100] loss: 1.233\n",
            "[Epoch 1, Batch 1200] loss: 1.249\n",
            "[Epoch 1, Batch 1300] loss: 1.241\n",
            "[Epoch 1, Batch 1400] loss: 1.220\n",
            "[Epoch 1, Batch 1500] loss: 1.169\n",
            "Epoch 1 accuracy: 47.65%\n",
            "[Epoch 2, Batch 100] loss: 1.139\n",
            "[Epoch 2, Batch 200] loss: 1.148\n",
            "[Epoch 2, Batch 300] loss: 1.080\n",
            "[Epoch 2, Batch 400] loss: 1.098\n",
            "[Epoch 2, Batch 500] loss: 1.099\n",
            "[Epoch 2, Batch 600] loss: 1.066\n",
            "[Epoch 2, Batch 700] loss: 1.033\n",
            "[Epoch 2, Batch 800] loss: 1.038\n",
            "[Epoch 2, Batch 900] loss: 1.036\n",
            "[Epoch 2, Batch 1000] loss: 1.002\n",
            "[Epoch 2, Batch 1100] loss: 1.052\n",
            "[Epoch 2, Batch 1200] loss: 1.009\n",
            "[Epoch 2, Batch 1300] loss: 0.972\n",
            "[Epoch 2, Batch 1400] loss: 0.961\n",
            "[Epoch 2, Batch 1500] loss: 0.984\n",
            "Epoch 2 accuracy: 62.92%\n",
            "[Epoch 3, Batch 100] loss: 0.886\n",
            "[Epoch 3, Batch 200] loss: 0.930\n",
            "[Epoch 3, Batch 300] loss: 0.932\n",
            "[Epoch 3, Batch 400] loss: 0.919\n",
            "[Epoch 3, Batch 500] loss: 0.887\n",
            "[Epoch 3, Batch 600] loss: 0.923\n",
            "[Epoch 3, Batch 700] loss: 0.868\n",
            "[Epoch 3, Batch 800] loss: 0.872\n",
            "[Epoch 3, Batch 900] loss: 0.910\n",
            "[Epoch 3, Batch 1000] loss: 0.901\n",
            "[Epoch 3, Batch 1100] loss: 0.858\n",
            "[Epoch 3, Batch 1200] loss: 0.869\n",
            "[Epoch 3, Batch 1300] loss: 0.852\n",
            "[Epoch 3, Batch 1400] loss: 0.864\n",
            "[Epoch 3, Batch 1500] loss: 0.836\n",
            "Epoch 3 accuracy: 69.30%\n",
            "[Epoch 4, Batch 100] loss: 0.813\n",
            "[Epoch 4, Batch 200] loss: 0.841\n",
            "[Epoch 4, Batch 300] loss: 0.816\n",
            "[Epoch 4, Batch 400] loss: 0.823\n",
            "[Epoch 4, Batch 500] loss: 0.827\n",
            "[Epoch 4, Batch 600] loss: 0.813\n",
            "[Epoch 4, Batch 700] loss: 0.795\n",
            "[Epoch 4, Batch 800] loss: 0.791\n",
            "[Epoch 4, Batch 900] loss: 0.823\n",
            "[Epoch 4, Batch 1000] loss: 0.805\n",
            "[Epoch 4, Batch 1100] loss: 0.774\n",
            "[Epoch 4, Batch 1200] loss: 0.784\n",
            "[Epoch 4, Batch 1300] loss: 0.788\n",
            "[Epoch 4, Batch 1400] loss: 0.784\n",
            "[Epoch 4, Batch 1500] loss: 0.794\n",
            "Epoch 4 accuracy: 72.12%\n",
            "[Epoch 5, Batch 100] loss: 0.793\n",
            "[Epoch 5, Batch 200] loss: 0.743\n",
            "[Epoch 5, Batch 300] loss: 0.736\n",
            "[Epoch 5, Batch 400] loss: 0.739\n",
            "[Epoch 5, Batch 500] loss: 0.747\n",
            "[Epoch 5, Batch 600] loss: 0.735\n",
            "[Epoch 5, Batch 700] loss: 0.751\n",
            "[Epoch 5, Batch 800] loss: 0.726\n",
            "[Epoch 5, Batch 900] loss: 0.725\n",
            "[Epoch 5, Batch 1000] loss: 0.742\n",
            "[Epoch 5, Batch 1100] loss: 0.736\n",
            "[Epoch 5, Batch 1200] loss: 0.732\n",
            "[Epoch 5, Batch 1300] loss: 0.722\n",
            "[Epoch 5, Batch 1400] loss: 0.731\n",
            "[Epoch 5, Batch 1500] loss: 0.733\n",
            "Epoch 5 accuracy: 74.54%\n",
            "[Epoch 6, Batch 100] loss: 0.688\n",
            "[Epoch 6, Batch 200] loss: 0.705\n",
            "[Epoch 6, Batch 300] loss: 0.693\n",
            "[Epoch 6, Batch 400] loss: 0.707\n",
            "[Epoch 6, Batch 500] loss: 0.687\n",
            "[Epoch 6, Batch 600] loss: 0.742\n",
            "[Epoch 6, Batch 700] loss: 0.688\n",
            "[Epoch 6, Batch 800] loss: 0.732\n",
            "[Epoch 6, Batch 900] loss: 0.663\n",
            "[Epoch 6, Batch 1000] loss: 0.702\n",
            "[Epoch 6, Batch 1100] loss: 0.661\n",
            "[Epoch 6, Batch 1200] loss: 0.672\n",
            "[Epoch 6, Batch 1300] loss: 0.712\n",
            "[Epoch 6, Batch 1400] loss: 0.681\n",
            "[Epoch 6, Batch 1500] loss: 0.711\n",
            "Epoch 6 accuracy: 75.93%\n",
            "[Epoch 7, Batch 100] loss: 0.670\n",
            "[Epoch 7, Batch 200] loss: 0.676\n",
            "[Epoch 7, Batch 300] loss: 0.644\n",
            "[Epoch 7, Batch 400] loss: 0.644\n",
            "[Epoch 7, Batch 500] loss: 0.648\n",
            "[Epoch 7, Batch 600] loss: 0.668\n",
            "[Epoch 7, Batch 700] loss: 0.607\n",
            "[Epoch 7, Batch 800] loss: 0.656\n",
            "[Epoch 7, Batch 900] loss: 0.655\n",
            "[Epoch 7, Batch 1000] loss: 0.659\n",
            "[Epoch 7, Batch 1100] loss: 0.678\n",
            "[Epoch 7, Batch 1200] loss: 0.673\n",
            "[Epoch 7, Batch 1300] loss: 0.698\n",
            "[Epoch 7, Batch 1400] loss: 0.633\n",
            "[Epoch 7, Batch 1500] loss: 0.669\n",
            "Epoch 7 accuracy: 77.31%\n",
            "[Epoch 8, Batch 100] loss: 0.615\n",
            "[Epoch 8, Batch 200] loss: 0.625\n",
            "[Epoch 8, Batch 300] loss: 0.627\n",
            "[Epoch 8, Batch 400] loss: 0.601\n",
            "[Epoch 8, Batch 500] loss: 0.636\n",
            "[Epoch 8, Batch 600] loss: 0.621\n",
            "[Epoch 8, Batch 700] loss: 0.610\n",
            "[Epoch 8, Batch 800] loss: 0.617\n",
            "[Epoch 8, Batch 900] loss: 0.634\n",
            "[Epoch 8, Batch 1000] loss: 0.620\n",
            "[Epoch 8, Batch 1100] loss: 0.634\n",
            "[Epoch 8, Batch 1200] loss: 0.649\n",
            "[Epoch 8, Batch 1300] loss: 0.636\n",
            "[Epoch 8, Batch 1400] loss: 0.664\n",
            "[Epoch 8, Batch 1500] loss: 0.642\n",
            "Epoch 8 accuracy: 78.19%\n",
            "[Epoch 9, Batch 100] loss: 0.589\n",
            "[Epoch 9, Batch 200] loss: 0.617\n",
            "[Epoch 9, Batch 300] loss: 0.626\n",
            "[Epoch 9, Batch 400] loss: 0.619\n",
            "[Epoch 9, Batch 500] loss: 0.611\n",
            "[Epoch 9, Batch 600] loss: 0.568\n",
            "[Epoch 9, Batch 700] loss: 0.615\n",
            "[Epoch 9, Batch 800] loss: 0.587\n",
            "[Epoch 9, Batch 900] loss: 0.624\n",
            "[Epoch 9, Batch 1000] loss: 0.637\n",
            "[Epoch 9, Batch 1100] loss: 0.608\n",
            "[Epoch 9, Batch 1200] loss: 0.613\n",
            "[Epoch 9, Batch 1300] loss: 0.621\n",
            "[Epoch 9, Batch 1400] loss: 0.607\n",
            "[Epoch 9, Batch 1500] loss: 0.625\n",
            "Epoch 9 accuracy: 78.80%\n",
            "[Epoch 10, Batch 100] loss: 0.564\n",
            "[Epoch 10, Batch 200] loss: 0.551\n",
            "[Epoch 10, Batch 300] loss: 0.581\n",
            "[Epoch 10, Batch 400] loss: 0.549\n",
            "[Epoch 10, Batch 500] loss: 0.548\n",
            "[Epoch 10, Batch 600] loss: 0.594\n",
            "[Epoch 10, Batch 700] loss: 0.544\n",
            "[Epoch 10, Batch 800] loss: 0.622\n",
            "[Epoch 10, Batch 900] loss: 0.567\n",
            "[Epoch 10, Batch 1000] loss: 0.606\n",
            "[Epoch 10, Batch 1100] loss: 0.602\n",
            "[Epoch 10, Batch 1200] loss: 0.616\n",
            "[Epoch 10, Batch 1300] loss: 0.599\n",
            "[Epoch 10, Batch 1400] loss: 0.613\n",
            "[Epoch 10, Batch 1500] loss: 0.609\n",
            "Epoch 10 accuracy: 79.85%\n",
            "Training complete\n",
            "Test Accuracy: 75.16%\n"
          ]
        },
        {
          "output_type": "display_data",
          "data": {
            "text/plain": [
              "<Figure size 1200x500 with 2 Axes>"
            ],
            "image/png": "[encoded data removed]"
          },
          "metadata": {}
        }
      ],
      "source": [
        "# Run training, testing and plotting\n",
        "if __name__ == '__main__':\n",
        "    losses, accs = train_model(model, trainloader, criterion, optimizer, num_epochs=10)\n",
        "    test_model(model, testloader)\n",
        "    plot_training_curves(losses, accs)\n"
      ]
    }
  ],
  "metadata": {
    "accelerator": "GPU",
    "colab": {
      "gpuType": "T4",
      "provenance": []
    },
    "kernelspec": {
      "display_name": "Python 3",
      "name": "python3"
    },
    "language_info": {
      "name": "python",
      "version": "3.9"
    }
  },
  "nbformat": 4,
  "nbformat_minor": 0
}